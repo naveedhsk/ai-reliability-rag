import requests

url = "https://nvlpubs.nist.gov/nistpubs/ai/nist.ai.100-1.pdf"  # NIST AI RMF 1.0
r = requests.get(url)
open("data/nist_ai_rmf.pdf", "wb").write(r.content)

print("Saved sample PDF to ./data/")
